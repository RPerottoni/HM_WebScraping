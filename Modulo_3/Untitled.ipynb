{
 "cells": [
  {
   "cell_type": "markdown",
   "id": "e0c333aa",
   "metadata": {},
   "source": [
    "# Método SAPE"
   ]
  },
  {
   "cell_type": "code",
   "execution_count": null,
   "id": "8c383b14",
   "metadata": {},
   "outputs": [],
   "source": [
    "# Pergunta de Negócio"
   ]
  },
  {
   "cell_type": "code",
   "execution_count": null,
   "id": "6b215c2c",
   "metadata": {},
   "outputs": [],
   "source": [
    "# Quantos tipos de calças e suas cores para o produto final?"
   ]
  },
  {
   "cell_type": "code",
   "execution_count": null,
   "id": "0b29a064",
   "metadata": {},
   "outputs": [],
   "source": [
    "### SAÍDA ###\n",
    "\n",
    "# A resposta para a pergunta.\n",
    "# Média ou mediana de preços por tipo e dentro do tipo, as cores das calças.\n",
    "\n",
    "# Formato de Entrega.\n",
    "# Em formato de gráfico, com base nos dados das lojas H&M e Macys.\n",
    "\n",
    "# Local da entrega\n",
    "# App streamlit."
   ]
  },
  {
   "cell_type": "code",
   "execution_count": null,
   "id": "4a3ba375",
   "metadata": {},
   "outputs": [],
   "source": [
    "### PROCESSO ###\n",
    "\n",
    "# Passo a passo para construção\n",
    "# Caclular a mediana ou a média do produto por tipo e cor.\n",
    "\n"
   ]
  },
  {
   "cell_type": "code",
   "execution_count": null,
   "id": "8892b9ed",
   "metadata": {},
   "outputs": [],
   "source": [
    "### ENTRADA ###\n",
    "\n",
    "# Site H&M\n",
    "# Site Macys"
   ]
  },
  {
   "cell_type": "code",
   "execution_count": null,
   "id": "167242dc",
   "metadata": {},
   "outputs": [],
   "source": [
    "# Quais as matérias-prima necessárias para confeccionar as calças?"
   ]
  },
  {
   "cell_type": "code",
   "execution_count": null,
   "metadata": {},
   "outputs": [],
   "source": [
    "### SAÍDA ###\n",
    "\n",
    "# A resposta para a pergunta.\n",
    "# Tabela com o nome das matérias primas a serem utilizadas para confeccionar os produtos..\n",
    "\n",
    "# Formato de Entrega.\n",
    "# Em forma de tabela.\n",
    "\n",
    "# Local da entrega\n",
    "# App streamlit."
   ]
  },
  {
   "cell_type": "code",
   "execution_count": null,
   "metadata": {},
   "outputs": [],
   "source": [
    "### PROCESSO ###\n",
    "\n",
    "# Passo a passo para construção\n",
    "# Caclular a mediana ou a média do produto por tipo e cor.\n",
    "\n"
   ]
  },
  {
   "cell_type": "code",
   "execution_count": null,
   "metadata": {},
   "outputs": [],
   "source": [
    "### ENTRADA ###\n",
    "\n",
    "# Site H&M\n",
    "# Site Macys"
   ]
  }
 ],
 "metadata": {
  "kernelspec": {
   "display_name": "Python 3",
   "language": "python",
   "name": "python3"
  },
  "language_info": {
   "codemirror_mode": {
    "name": "ipython",
    "version": 3
   },
   "file_extension": ".py",
   "mimetype": "text/x-python",
   "name": "python",
   "nbconvert_exporter": "python",
   "pygments_lexer": "ipython3",
   "version": "3.8.8"
  }
 },
 "nbformat": 4,
 "nbformat_minor": 5
}
